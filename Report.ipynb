{
 "cells": [
  {
   "cell_type": "markdown",
   "metadata": {},
   "source": [
    "# Crawler by PPO\n",
    "\n",
    "---\n",
    "\n",
    "You are welcome to use this coding environment to train your agent for the project.  Follow the instructions below to get started!\n",
    "\n",
    "### 1. Start the Environment\n",
    "The environment is already saved in the Workspace and can be accessed at the file path provided below. "
   ]
  },
  {
   "cell_type": "code",
   "execution_count": 1,
   "metadata": {},
   "outputs": [
    {
     "name": "stderr",
     "output_type": "stream",
     "text": [
      "INFO:unityagents:\n",
      "'Academy' started successfully!\n",
      "Unity Academy name: Academy\n",
      "        Number of Brains: 1\n",
      "        Number of External Brains : 1\n",
      "        Lesson number : 0\n",
      "        Reset Parameters :\n",
      "\t\t\n",
      "Unity brain name: CrawlerBrain\n",
      "        Number of Visual Observations (per agent): 0\n",
      "        Vector Observation space type: continuous\n",
      "        Vector Observation space size (per agent): 129\n",
      "        Number of stacked Vector Observation: 1\n",
      "        Vector Action space type: continuous\n",
      "        Vector Action space size (per agent): 20\n",
      "        Vector Action descriptions: , , , , , , , , , , , , , , , , , , , \n"
     ]
    }
   ],
   "source": [
    "from unityagents import UnityEnvironment\n",
    "import numpy as np\n",
    "import random\n",
    "import torch\n",
    "from collections import deque\n",
    "from datetime import datetime\n",
    "def MSG(txt):\n",
    "    print(datetime.now().strftime(\"%Y-%m-%d %H:%M:%S:\"), str(txt))\n",
    "from ppo_agent import Agent\n",
    "import matplotlib.pyplot as plt\n",
    "import sys\n",
    "import random\n",
    "%matplotlib inline\n",
    "\n",
    "env = UnityEnvironment(file_name='data/Crawler_Linux/Crawler.x86_64')"
   ]
  },
  {
   "cell_type": "markdown",
   "metadata": {},
   "source": [
    "Environments contain **_brains_** which are responsible for deciding the actions of their associated agents. Here we check for the first brain available, and set it as the default brain we will be controlling from Python."
   ]
  },
  {
   "cell_type": "code",
   "execution_count": 2,
   "metadata": {},
   "outputs": [],
   "source": [
    "# get the default brain\n",
    "brain_name = env.brain_names[0]\n",
    "brain = env.brains[brain_name]"
   ]
  },
  {
   "cell_type": "markdown",
   "metadata": {},
   "source": [
    "### 2. Examine the State and Action Spaces\n",
    "\n",
    "Run the code cell below to print some information about the environment."
   ]
  },
  {
   "cell_type": "code",
   "execution_count": 3,
   "metadata": {},
   "outputs": [
    {
     "name": "stdout",
     "output_type": "stream",
     "text": [
      "there are 12 identical agents in the env\n"
     ]
    }
   ],
   "source": [
    "# reset the environment\n",
    "env_info = env.reset(train_mode=True)[brain_name]\n",
    "# number of agents\n",
    "n_agent = len(env_info.agents)\n",
    "print(\"there are %d identical agents in the env\"%n_agent)\n",
    "# size of each action\n",
    "action_size = brain.vector_action_space_size\n",
    "# size of state space \n",
    "state_size = env_info.vector_observations.shape[1]"
   ]
  },
  {
   "cell_type": "markdown",
   "metadata": {},
   "source": [
    "### 3. Proximal Policy Optimization Algorithms\n",
    "\n",
    "[PPO](https://arxiv.org/abs/1707.06347) is a new family of policy gradient methods for reinforcement learning, which alternate between sampling data through interaction with the environment, and optimizing a \"surrogate\" objective function using stochastic gradient ascent.\n",
    "![PPO](src/img/ppo.png)\n",
    "\n",
    "Details of our algorithm:\n",
    "\n",
    "1. 3-hidden layer (relu+bn) + tanh outlayer Actor Netwok\n",
    "2. 3-hidden layer (relu+bn) + tanh outlayer  Critic Netwok\n",
    "\n",
    "Some hyper-parameters:\n",
    "\n",
    "Hyper-Parameter | Value | Description\n",
    "----------|-----------|--------------\n",
    "BATCH_SIZE | 1024          |  minibatch size\n",
    "MIN_BATCH_NUM  |  32         |  the minimum number of batch in each learning epoch\n",
    "GAMMA  |  0.99               |  discount factor\n",
    "TAU  |  0.99                 |  discount factor\n",
    "LEARNING_RATE  |  1e-4       |  learning rate of the actor\n",
    "EPSILON  |  1e-5             |  epsilon of Adam\n",
    "WEIGHT_DECAY  |  1e-4        |  weight decay of Adam\n",
    "PPO_CLIP  |  0.2             |  clip factor in ppo\n",
    "CLIP_GRAD  |  1              |  clip factor of gradient\n",
    "ENTROPY_COEFFICENT  |  0.01  |  coefficent of entropy\n",
    "NOISE_REDUCE  |  0.999       |  reduce the threshold of std in action"
   ]
  },
  {
   "cell_type": "code",
   "execution_count": 4,
   "metadata": {},
   "outputs": [
    {
     "name": "stdout",
     "output_type": "stream",
     "text": [
      "2018-12-10 23:55:08: start!\n",
      "Episode 100\tCurrent Episode Average Score: 565.25\tAverage Score on 100 Episode: 260.23\tAverage Step: 1500\n",
      "Episode 200\tCurrent Episode Average Score: 801.42\tAverage Score on 100 Episode: 742.79\tAverage Step: 1500\n",
      "Episode 300\tCurrent Episode Average Score: 950.61\tAverage Score on 100 Episode: 893.02\tAverage Step: 1500\n",
      "Episode 400\tCurrent Episode Average Score: 902.99\tAverage Score on 100 Episode: 937.84\tAverage Step: 1500\n",
      "Episode 500\tCurrent Episode Average Score: 1054.52\tAverage Score on 100 Episode: 1036.98\tAverage Step: 1500\n",
      "Episode 600\tCurrent Episode Average Score: 851.55\tAverage Score on 100 Episode: 977.41\tAverage Step: 1500\n",
      "Episode 700\tCurrent Episode Average Score: 1204.22\tAverage Score on 100 Episode: 1206.49\tAverage Step: 1500\n",
      "Episode 800\tCurrent Episode Average Score: 1355.03\tAverage Score on 100 Episode: 1260.61\tAverage Step: 1500\n",
      "Episode 900\tCurrent Episode Average Score: 1336.62\tAverage Score on 100 Episode: 1344.46\tAverage Step: 1500\n",
      "Episode 1000\tCurrent Episode Average Score: 1523.79\tAverage Score on 100 Episode: 1413.23\tAverage Step: 1500\n",
      "Episode 1100\tCurrent Episode Average Score: 1363.40\tAverage Score on 100 Episode: 1321.96\tAverage Step: 1500\n",
      "Episode 1200\tCurrent Episode Average Score: 1243.15\tAverage Score on 100 Episode: 1220.86\tAverage Step: 1500\n",
      "Episode 1300\tCurrent Episode Average Score: 1542.44\tAverage Score on 100 Episode: 1466.32\tAverage Step: 1500\n",
      "Episode 1400\tCurrent Episode Average Score: 1566.67\tAverage Score on 100 Episode: 1533.19\tAverage Step: 1500\n",
      "Episode 1500\tCurrent Episode Average Score: 1659.06\tAverage Score on 100 Episode: 1557.30\tAverage Step: 1500\n",
      "Episode 1600\tCurrent Episode Average Score: 1857.07\tAverage Score on 100 Episode: 1723.62\tAverage Step: 1500\n",
      "Episode 1700\tCurrent Episode Average Score: 656.53\tAverage Score on 100 Episode: 1750.76\tAverage Step: 1500\n",
      "2018-12-11 02:36:47: \n",
      "end!\n"
     ]
    },
    {
     "data": {
      "image/png": "[encoded data removed]",
      "text/plain": [
       "<matplotlib.figure.Figure at 0x7f08949a6198>"
      ]
     },
     "metadata": {},
     "output_type": "display_data"
    }
   ],
   "source": [
    "agent = Agent(state_size=state_size, action_size=action_size, random_seed=2, n_agent=n_agent)\n",
    "\n",
    "def ppo(env, agent, n_episodes=1700, max_t=1500, print_every=100, n_agent = 12):\n",
    "    \"\"\"\n",
    "    Params\n",
    "    ======\n",
    "        n_episodes (int): maximum number of training episodes\n",
    "        max_t (int): maximum number of timesteps per episode\n",
    "        print_every (int): number of episodes to print result\n",
    "        n_agent (int): number of identical agents in environment\n",
    "    \"\"\"\n",
    "    MSG('start!')\n",
    "    brain_name = env.brain_names[0]\n",
    "    scores_deque = deque(maxlen=print_every)\n",
    "    t_mean = deque(maxlen=print_every//100)\n",
    "    scores = []\n",
    "    best_score = 0.\n",
    "    for i_episode in range(1, n_episodes+1):\n",
    "        env_info = env.reset(train_mode=True)[brain_name]\n",
    "        states = env_info.vector_observations\n",
    "        agent_scores = np.zeros(n_agent)\n",
    "        for t in range(max_t):\n",
    "            actions, log_probs, _, values = agent.act(states)\n",
    "            # get needed information from environment\n",
    "            env_info = env.step(actions)[brain_name]\n",
    "            next_states = env_info.vector_observations\n",
    "            rewards = env_info.rewards\n",
    "            dones = np.array([1 if t else 0 for t in env_info.local_done])\n",
    "            agent.save_step([states, values.detach(), actions, log_probs.detach(), rewards, 1 - dones])\n",
    "            states = next_states\n",
    "            agent_scores += rewards\n",
    "            if all(dones) or (t+1) == max_t:\n",
    "                t_mean.append(t+1)\n",
    "            if (t+1) == max_t:\n",
    "                agent.step(next_states)\n",
    "                break\n",
    "        score = np.mean(agent_scores)\n",
    "        scores_deque.append(score)\n",
    "        scores.append(score)\n",
    "\n",
    "        if score > best_score:\n",
    "            torch.save(agent.actor_critic.state_dict(), 'checkpoint.pth')\n",
    "            best_score = score\n",
    "\n",
    "        if i_episode % (print_every) == 0:\n",
    "            print('\\rEpisode {}\\tCurrent Episode Average Score: {:.2f}\\tAverage Score on 100 Episode: {:.2f}\\tAverage Step: {:.0f}'.format(i_episode, \n",
    "                        score, np.mean(scores_deque), np.mean(t_mean)))\n",
    "    MSG('\\nend!')\n",
    "    return scores\n",
    "\n",
    "\n",
    "scores = ppo(env, agent, n_agent=n_agent)\n",
    "\n",
    "# plot\n",
    "fig = plt.figure()\n",
    "ax = fig.add_subplot(111)\n",
    "plt.plot(np.arange(1, len(scores)+1), scores)\n",
    "plt.ylabel('Score')\n",
    "plt.xlabel('Episode #')\n",
    "plt.show()"
   ]
  }
 ],
 "metadata": {
  "kernelspec": {
   "display_name": "Python 3",
   "language": "python",
   "name": "python3"
  },
  "language_info": {
   "codemirror_mode": {
    "name": "ipython",
    "version": 3
   },
   "file_extension": ".py",
   "mimetype": "text/x-python",
   "name": "python",
   "nbconvert_exporter": "python",
   "pygments_lexer": "ipython3",
   "version": "3.6.4"
  }
 },
 "nbformat": 4,
 "nbformat_minor": 2
}
